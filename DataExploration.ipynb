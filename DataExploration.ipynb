{
 "cells": [
  {
   "cell_type": "markdown",
   "metadata": {},
   "source": [
    "# Data exploration"
   ]
  },
  {
   "cell_type": "code",
   "execution_count": null,
   "metadata": {},
   "outputs": [],
   "source": [
    "import matplotlib.pyplot as plt\n",
    "import numpy as np\n",
    "import h5py\n",
    "import re\n",
    "import pandas as pd"
   ]
  },
  {
   "cell_type": "code",
   "execution_count": null,
   "metadata": {},
   "outputs": [],
   "source": [
    "filename = \"data/Mg22_alphaalpha_digiSim.h5\"\n",
    "\n",
    "f = h5py.File(filename, \"r\")\n",
    "# List all groups\n",
    "#print(\"All keys: %s\" % f.keys())\n",
    "print(\"Total number of events:\", len(f.keys()))\n",
    "a_group_key = list(f.keys())[0]\n",
    "\n",
    "print(\"Extracting data for key:\", a_group_key)\n",
    "# Get the data\n",
    "data_0 = list(f[a_group_key])\n",
    "#print(f.keys()) \n",
    "\n",
    "list_data = []\n",
    "dict_data = {}\n",
    "y = []\n",
    "\n",
    "for i, key in enumerate(f.keys()):\n",
    "    #if i > 10:\n",
    "    #    break\n",
    "    #print(key)\n",
    "    re_m = re.match(\"Event_\\[(\\d*)\\]\", key)\n",
    "    event = int(re_m.groups()[0])\n",
    "    #print(\"Event:\", event)\n",
    "\n",
    "    tmp = np.asarray(list(f[key]))        \n",
    "    dict_data[event] = tmp         \n",
    "    list_data.append(tmp)\n",
    "    y.append(event % 2)\n",
    "    \n",
    "    \n",
    "y = np.asarray(y)[:,np.newaxis]"
   ]
  },
  {
   "cell_type": "code",
   "execution_count": null,
   "metadata": {},
   "outputs": [],
   "source": [
    "hf = h5py.File(filename, \"r\")\n",
    "hf.get('/get')"
   ]
  },
  {
   "cell_type": "markdown",
   "metadata": {},
   "source": [
    "### Data structure"
   ]
  },
  {
   "cell_type": "code",
   "execution_count": null,
   "metadata": {},
   "outputs": [],
   "source": [
    "display(pd.DataFrame(gi.get_event_by_index(hf, 1204)))"
   ]
  },
  {
   "cell_type": "markdown",
   "metadata": {},
   "source": [
    "### Length of events"
   ]
  },
  {
   "cell_type": "code",
   "execution_count": null,
   "metadata": {},
   "outputs": [],
   "source": [
    "length = []\n",
    "for key in hf.keys():\n",
    "    length.append(len(hf[key]))\n",
    "length = np.asarray(length)"
   ]
  },
  {
   "cell_type": "code",
   "execution_count": null,
   "metadata": {},
   "outputs": [],
   "source": [
    "plt.figure()\n",
    "plt.hist(length, bins=100)\n",
    "plt.xlabel(\"Length (items)\")\n",
    "plt.show()"
   ]
  },
  {
   "cell_type": "markdown",
   "metadata": {},
   "source": [
    "## Visualisation"
   ]
  },
  {
   "cell_type": "code",
   "execution_count": null,
   "metadata": {},
   "outputs": [],
   "source": [
    "event_i = 8\n",
    "\n",
    "fig = plt.figure(figsize=(12,6))\n",
    "ax = plt.subplot(131)\n",
    "sc = plt.scatter(dict_data[event_i][\"x\"], dict_data[event_i][\"y\"], c=dict_data[event_i][\"A\"], cmap='inferno')\n",
    "ax.set_xlabel(\"x\")\n",
    "ax.set_ylabel(\"y\")\n",
    "ax.set_title(\"XY projection\")\n",
    "\n",
    "ax = plt.subplot(132)\n",
    "sc = plt.scatter(dict_data[event_i][\"x\"], dict_data[event_i][\"z\"], c=dict_data[event_i][\"A\"], cmap='inferno')\n",
    "ax.set_xlabel(\"x\")\n",
    "ax.set_ylabel(\"z\")\n",
    "ax.set_title(\"XZ projection\")\n",
    "\n",
    "ax = plt.subplot(133)\n",
    "sc = plt.scatter(dict_data[event_i][\"y\"], dict_data[event_i][\"z\"], c=dict_data[event_i][\"A\"], cmap='inferno')\n",
    "ax.set_xlabel(\"y\")\n",
    "ax.set_ylabel(\"z\")\n",
    "ax.set_title(\"YZ projection\")\n",
    "\n",
    "cbar = fig.colorbar(sc, orientation='vertical')    \n",
    "\n",
    "plt.show()"
   ]
  },
  {
   "cell_type": "code",
   "execution_count": null,
   "metadata": {},
   "outputs": [],
   "source": [
    "n_rows, n_cols = 4, 4\n",
    "\n",
    "fig = plt.figure(figsize=(12,12))\n",
    "\n",
    "for i in range(n_rows*n_cols):\n",
    "    ax = plt.subplot(n_rows, n_cols, i+1)\n",
    "    sc = plt.scatter(dict_data[i][\"x\"], dict_data[i][\"y\"], c=dict_data[i][\"A\"], cmap='inferno')\n",
    "    ax.set_xlabel(\"x\")\n",
    "    ax.set_ylabel(\"y\")\n",
    "    ax.set_title(\"Event: {}\".format(i))\n",
    "\n",
    "plt.tight_layout()\n",
    "plt.show()"
   ]
  },
  {
   "cell_type": "code",
   "execution_count": null,
   "metadata": {},
   "outputs": [],
   "source": [
    "from mpl_toolkits.mplot3d import Axes3D\n",
    "event_i = 13\n",
    "\n",
    "fig = plt.figure(figsize=(12,6))\n",
    "ax = fig.add_subplot(111, projection='3d')\n",
    "sc = ax.scatter(dict_data[event_i][\"x\"], dict_data[event_i][\"y\"],dict_data[event_i][\"A\"])\n",
    "ax.set_xlabel(\"x\")\n",
    "ax.set_ylabel(\"y\")\n",
    "ax.set_zlabel(\"z\")\n",
    "ax.set_title(\"XYZ\")\n",
    "plt.show()"
   ]
  },
  {
   "cell_type": "markdown",
   "metadata": {},
   "source": [
    "## Discretization"
   ]
  },
  {
   "cell_type": "code",
   "execution_count": null,
   "metadata": {},
   "outputs": [],
   "source": [
    "import data_discretization as dd\n",
    "import generate_images as gi\n",
    "%load_ext autoreload\n",
    "%autoreload 1\n",
    "%aimport data_discretization\n",
    "%aimport generate_images"
   ]
  },
  {
   "cell_type": "code",
   "execution_count": null,
   "metadata": {},
   "outputs": [],
   "source": [
    "gi.real_labeled(\"xy\", \"data/\", \"output/\", \"test_\")"
   ]
  },
  {
   "cell_type": "code",
   "execution_count": null,
   "metadata": {},
   "outputs": [],
   "source": [
    "import os\n",
    "from generate_images import *\n",
    "\n",
    "def _l(a):\n",
    "    return 0 if a == 0 else math.log10(a)\n"
   ]
  },
  {
   "cell_type": "code",
   "execution_count": null,
   "metadata": {},
   "outputs": [],
   "source": [
    "projection, data_dir, save_path, prefix = \"xy\", \"data/\", \"output/\", \"test_\"\n",
    "print('Processing data...')\n",
    "data = []\n",
    "\n",
    "filename = os.path.join(data_dir, DATA_FILE)\n",
    "h5_file = h5py.File(filename, \"r\")\n",
    "\n",
    "for key in h5_file.keys():\n",
    "    #event = events[str(evt_id)]\n",
    "    #xyzs = event.xyzs(peaks_only=True, drift_vel=5.2, clock=12.5, return_pads=False,\n",
    "    #                  baseline_correction=False,\n",
    "    #                  cg_times=False)\n",
    "    xyzs = np.asarray(pd.DataFrame(h5_file[key][:]))\n",
    "    if xyzs.shape[0] > 0:\n",
    "        data.append([xyzs, get_label(key)])\n",
    "    else:\n",
    "        print(\"WARNING,\", key, \"has no pads firing. Removing event ...\")\n",
    "\n",
    "log = np.vectorize(_l)\n",
    "\n",
    "print()\n",
    "\n",
    "for event in data:\n",
    "    event[0][:, CHARGE_COL] = log(event[0][:, CHARGE_COL])\n",
    "\n",
    "# Shuffle data\n",
    "data = shuffle(data)\n",
    "\n",
    "# Split into train and test sets\n",
    "partition = int(len(data) * 0.8)\n",
    "train = data[:partition]\n",
    "test = data[partition:]\n",
    "\n",
    "# Normalize\n",
    "max_charge = np.array(list(map(lambda x: x[0][:, CHARGE_COL].max(), train))).max()\n",
    "\n",
    "for e in train:\n",
    "    for point in e[0]:\n",
    "        point[CHARGE_COL] = point[CHARGE_COL] / max_charge\n",
    "\n",
    "for e in test:\n",
    "    for point in e[0]:\n",
    "        point[CHARGE_COL] = point[CHARGE_COL] / max_charge"
   ]
  },
  {
   "cell_type": "code",
   "execution_count": null,
   "metadata": {},
   "outputs": [],
   "source": [
    "#matplotlib.use('QT4Agg')\n",
    "%matplotlib inline"
   ]
  },
  {
   "cell_type": "code",
   "execution_count": null,
   "metadata": {},
   "outputs": [],
   "source": [
    "print('Making images...')\n",
    "\n",
    "# Make train numpy sets\n",
    "train_features = np.empty((len(train), 128, 128, 3), dtype=np.uint8)\n",
    "train_targets = np.empty((len(train),), dtype=np.uint8)\n",
    "\n",
    "for i, event in enumerate(train):\n",
    "    if i > 5:\n",
    "        break\n",
    "    e = event[0]\n",
    "    if projection == 'zy':\n",
    "        x = e[:, Z_COL].flatten()\n",
    "        z = e[:, Y_COL].flatten()\n",
    "        c = e[:, CHARGE_COL].flatten()\n",
    "    elif projection == 'xy':\n",
    "        x = e[:, X_COL].flatten()\n",
    "        z = e[:, Y_COL].flatten()\n",
    "        c = e[:, CHARGE_COL].flatten()\n",
    "    else:\n",
    "        raise ValueError('Invalid projection value.')\n",
    "    fig = plt.figure(figsize=(1, 1), dpi=128)\n",
    "    if projection == 'zy':\n",
    "        plt.xlim(0.0, 1250.0)\n",
    "    elif projection == 'xy':\n",
    "        plt.xlim(-275.0, 275.0)\n",
    "    plt.ylim((-275.0, 275.0))\n",
    "    #plt.axis('off')\n",
    "    plt.scatter(x, z, s=0.6, c=c, cmap='Greys')\n",
    "    fig.canvas.draw()\n",
    "    data = np.array(fig.canvas.renderer._renderer, dtype=np.uint8)\n",
    "    data = np.delete(data, 3, axis=2)\n",
    "    train_features[i] = data\n",
    "    train_targets[i] = event[1]\n",
    "    plt.show()\n",
    "    plt.close()"
   ]
  },
  {
   "cell_type": "code",
   "execution_count": null,
   "metadata": {},
   "outputs": [],
   "source": [
    "data.shape"
   ]
  },
  {
   "cell_type": "code",
   "execution_count": null,
   "metadata": {},
   "outputs": [],
   "source": [
    "d = {1: 100, 2: 200, 3: 300}\n",
    "list(d.values())"
   ]
  },
  {
   "cell_type": "code",
   "execution_count": null,
   "metadata": {},
   "outputs": [],
   "source": [
    "# Make test numpy sets\n",
    "test_features = np.empty((len(test), 128, 128, 3), dtype=np.uint8)\n",
    "test_targets = np.empty((len(test),), dtype=np.uint8)\n",
    "\n",
    "for i, event in enumerate(test):\n",
    "    e = event[0]\n",
    "    if projection == 'zy':\n",
    "        x = e[:, 2].flatten()\n",
    "        z = e[:, 1].flatten()\n",
    "        c = e[:, 3].flatten()\n",
    "    elif projection == 'xy':\n",
    "        x = e[:, 0].flatten()\n",
    "        z = e[:, 1].flatten()\n",
    "        c = e[:, 3].flatten()\n",
    "    else:\n",
    "        raise ValueError('Invalid projection value.')\n",
    "    fig = plt.figure(figsize=(1, 1), dpi=128)\n",
    "    if projection == 'zy':\n",
    "        plt.xlim(0.0, 1250.0)\n",
    "    elif projection == 'xy':\n",
    "        plt.xlim(-275.0, 275.0)\n",
    "    plt.ylim((-275.0, 275.0))\n",
    "    plt.axis('off')\n",
    "    plt.scatter(x, z, s=0.6, c=c, cmap='Greys')\n",
    "    fig.canvas.draw()\n",
    "    data = np.array(fig.canvas.renderer._renderer, dtype=np.uint8)\n",
    "    data = np.delete(data, 3, axis=2)\n",
    "    test_features[i] = data\n",
    "    test_targets[i] = event[1]\n",
    "    plt.close()\n",
    "\n",
    "print('Saving file...')\n",
    "\n",
    "if not os.path.exists(save_path):\n",
    "    os.makedirs(save_path)\n",
    "\n",
    "filename = os.path.join(save_path, prefix + 'images.h5')\n",
    "\n",
    "# Save to HDF5\n",
    "h5 = h5py.File(filename, 'w')\n",
    "h5.create_dataset('train_features', data=train_features)\n",
    "h5.create_dataset('train_targets', data=train_targets)\n",
    "h5.create_dataset('test_features', data=test_features)\n",
    "h5.create_dataset('test_targets', data=test_targets)\n",
    "h5.create_dataset('max_charge', data=np.array([max_charge]))\n",
    "h5.close()"
   ]
  },
  {
   "cell_type": "code",
   "execution_count": null,
   "metadata": {},
   "outputs": [],
   "source": [
    "np.delete()"
   ]
  },
  {
   "cell_type": "code",
   "execution_count": null,
   "metadata": {},
   "outputs": [],
   "source": [
    "np.asarray(pd.DataFrame(h5_file[key][:])).shape"
   ]
  },
  {
   "cell_type": "code",
   "execution_count": null,
   "metadata": {},
   "outputs": [],
   "source": [
    "event[1]"
   ]
  },
  {
   "cell_type": "code",
   "execution_count": null,
   "metadata": {},
   "outputs": [],
   "source": [
    "dict_data = gi.read_and_label_data('data/').values()"
   ]
  },
  {
   "cell_type": "code",
   "execution_count": null,
   "metadata": {
    "jupyter": {
     "outputs_hidden": true
    }
   },
   "outputs": [],
   "source": [
    "list(dict_data)"
   ]
  },
  {
   "cell_type": "code",
   "execution_count": null,
   "metadata": {},
   "outputs": [],
   "source": [
    "gi.generate_image_data_set(\"xy\", \"data/\", \"output/\", \"test_\")"
   ]
  },
  {
   "cell_type": "code",
   "execution_count": null,
   "metadata": {},
   "outputs": [],
   "source": [
    "event = 8\n",
    "dict_data = gi.read_and_label_data(\"data/\")\n",
    "data = list(dict_data[8]) #from dict to list\n",
    "print(\"Shape:\\n\\tdata:\", len(data))\n",
    "data, max_charge = gi.transform_normalize_data(data)"
   ]
  }
 ],
 "metadata": {
  "kernelspec": {
   "display_name": "Python 3",
   "language": "python",
   "name": "python3"
  },
  "language_info": {
   "codemirror_mode": {
    "name": "ipython",
    "version": 3
   },
   "file_extension": ".py",
   "mimetype": "text/x-python",
   "name": "python",
   "nbconvert_exporter": "python",
   "pygments_lexer": "ipython3",
   "version": "3.6.7"
  }
 },
 "nbformat": 4,
 "nbformat_minor": 4
}
